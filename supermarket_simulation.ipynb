{
 "cells": [
  {
   "cell_type": "markdown",
   "metadata": {},
   "source": [
    "### import and concat tables"
   ]
  },
  {
   "cell_type": "code",
   "execution_count": 1,
   "metadata": {},
   "outputs": [],
   "source": [
    "from random import randrange\n",
    "import datetime\n",
    "import time\n",
    "import random"
   ]
  },
  {
   "cell_type": "code",
   "execution_count": 2,
   "metadata": {},
   "outputs": [],
   "source": [
    "class Customer:\n",
    "    \"\"\"\n",
    "    a single customer that moves through the supermarket\n",
    "\n",
    "    Parameter\n",
    "    -------\n",
    "    states: possible states for a customer\n",
    "    probs: Transition Matrix for states (calculated from Data)\n",
    "\n",
    "    self.id: unique customer id for the day, assigned in Supermarket class\n",
    "    self.current_state: current isle for customer, assigned in Supermarket\n",
    "    self.active_cust: is Customer still in Supermarket. Start=True, Checked-out --> False\n",
    "    current_time: timestamp at print statement\n",
    "    \"\"\"\n",
    "\n",
    "    states = ['checkout', 'dairy', 'drinks', 'fruit', 'spices']\n",
    "    probs = {'checkout': [0.0, 0.0, 0.0, 0.0, 0.0],\n",
    "            'dairy': [0.3930326992947211, 0.0, 0.22248343663175893, 0.18935670014960462, 0.19512716392391535],\n",
    "            'drinks': [0.5372599231754162, 0.02714468629961588, 0.0, 0.21895006402048656, 0.21664532650448143],\n",
    "            'fruit': [0.5001952362358454, 0.23799297149550958, 0.13607965638422492, 0.0, 0.12573213588442014],\n",
    "            'spices': [0.25199786893979753, 0.3231220031965903, 0.27277570591369205, 0.15210442194992008, 0.0]}\n",
    "\n",
    "    def __init__(self, id, start_state, active_cust=True):\n",
    "        self.id = id\n",
    "        self.current_state = start_state\n",
    "        self.active_cust = active_cust\n",
    "\n",
    "    def next_state(self):\n",
    "        self.current_state = random.choices(self.states, weights=self.probs[self.current_state])[0]\n",
    "        if self.current_state == 'checkout':\n",
    "            current_time = datetime.datetime.now().strftime('%H:%M:%S')\n",
    "            self.active_cust = False\n",
    "            print(f'{current_time}, Customer {self.id}, {self.current_state}')\n",
    "    \n",
    "    def __repr__(self):\n",
    "        return f'Customer {self.id}, is at {self.current_state}'\n"
   ]
  },
  {
   "cell_type": "code",
   "execution_count": 3,
   "metadata": {},
   "outputs": [],
   "source": [
    "class Supermarket:\n",
    "    \"\"\"\n",
    "    a supermarket in a MCMC simulattion\n",
    "\n",
    "    Parameter\n",
    "    -------\n",
    "    initial_states: possible states for a new customer (here, checkout not possible yet) \n",
    "    initial_probs: Transition Matrix for initial states\n",
    "\n",
    "    self.name: name of Supermarket object (recomended - name of day)\n",
    "    self.customers: list of Customer Objects\n",
    "    self.run_time: running time, start=0\n",
    "    self.closing_time: end time\n",
    "    self.last_id : running customer id for the day, start=1\n",
    "    self.closing_time: timestamp at closing time\n",
    "\n",
    "    n_cust: randomly choose number of new customers to add per iteration, range [0:5]\n",
    "    id: id to assign to new customer being added in the iteration\n",
    "    start_state: randomly choose initial state, with weighted probabilaties extracted from data\n",
    "    c : initiate new Customer Object\n",
    "    current_time: timestamp at print statement\n",
    "\n",
    "    \"\"\"\n",
    "\n",
    "    initial_states = ['fruit', 'dairy', 'spices', 'drinks']\n",
    "    initial_probs =  [0.3069573006867722, 0.2782920274708868, 0.21887130486712453, 0.1958793669752165]\n",
    "\n",
    "\n",
    "    def __init__(self, day, duration):\n",
    "        self.name = day\n",
    "        self.customers = []\n",
    "        self.run_time = 0\n",
    "        self.duration = duration\n",
    "        self.closing_time = 0\n",
    "        self.last_id = 1\n",
    "\n",
    "    def new_cust(self, n_cust):\n",
    "        for i in range(n_cust):\n",
    "            start_state = random.choices(self.initial_states, weights=self.initial_probs)[0]\n",
    "            c = Customer(self.last_id, start_state)\n",
    "            self.customers.append(c)\n",
    "            self.last_id = self.last_id + 1\n",
    "\n",
    "    def new_state(self):\n",
    "        for customer in self.customers:\n",
    "            if customer.active_cust:\n",
    "                customer.next_state()\n",
    "\n",
    "    def print(self):\n",
    "        for customer in self.customers:\n",
    "            if customer.active_cust:\n",
    "                current_time = datetime.datetime.now().strftime('%H:%M:%S')\n",
    "                print(f'{current_time}, Customer {customer.id}, {customer.current_state}, {customer.active_cust}, yeeeeeey')\n",
    "\n",
    "    def end(self):\n",
    "        print('Dear Customers - The Supermarkert is about to close. please proceed to checkout')\n",
    "        time.sleep(5)\n",
    "        for customer in self.customers:\n",
    "            if customer.active_cust:\n",
    "                customer.current_state = 'checkout'\n",
    "                customer.active_cust = False\n",
    "                current_time = datetime.datetime.now().strftime('%H:%M:%S')\n",
    "                self.closing_time = datetime.datetime.now().strftime('%Y-%m-%d %H:%M:%S')\n",
    "                print(f'{current_time}, customer {customer.id}, {customer.current_state}, {customer.active_cust}, supermarket closed')\n",
    "        print(f'{current_time}: To the {self.last_id} customers that visited us today - Thank you for shopping at Doodle Supermarket')\n",
    "\n",
    "    def __repr__(self):\n",
    "        return f'Name: {self.name}, Closing time: {self.closing_time}. Total Number of customers: {self.last_id}'\n"
   ]
  },
  {
   "cell_type": "code",
   "execution_count": 4,
   "metadata": {},
   "outputs": [],
   "source": [
    "def run_supermarket(name, duration):\n",
    "    \"\"\"\n",
    "    Initiates a Supermarket object and itirates adding new customers and shuffeling their state. \n",
    "        \"name\" - object name (recommended to give name of day)\n",
    "        \"duration\" - duration of time it runs in seconds\n",
    "\n",
    "    Parameter\n",
    "    -------\n",
    "    day: initiated Supermarket Object\n",
    "    day.run_time: object attribute (incremented run time)\n",
    "    day.duration: object attribute (closing time = duration)\n",
    "    n_cust: number of new customers, randomly chosen [0,5]\n",
    "\n",
    "    day.new_state: object method (assigns new isle to customers in shop)\n",
    "    day.new_cust: object method (initiates new customers)\n",
    "    day.print: object method (prints state of active customers)\n",
    "    day.end: object method (checks out customer before closing the shop)\n",
    "    \"\"\"\n",
    "    \n",
    "    day = Supermarket(name, duration)\n",
    "    while day.run_time < day.duration:\n",
    "        n_cust = randrange(5)\n",
    "        day.new_state()\n",
    "        day.new_cust(n_cust)\n",
    "        print(day.run_time)        #\n",
    "        day.print()\n",
    "        time.sleep(5)\n",
    "        day.run_time = day.run_time + 10\n",
    "    day.end()\n",
    "    return day"
   ]
  },
  {
   "cell_type": "code",
   "execution_count": 5,
   "metadata": {},
   "outputs": [],
   "source": [
    "#Create empty list for initiated Supermarket Objects\n",
    "supermarkets = []"
   ]
  },
  {
   "cell_type": "code",
   "execution_count": 6,
   "metadata": {},
   "outputs": [
    {
     "name": "stdout",
     "output_type": "stream",
     "text": [
      "0\n",
      "22:18:43, Customer 1, spices, True, yeeeeeey\n",
      "10\n",
      "22:18:48, Customer 1, fruit, True, yeeeeeey\n",
      "22:18:48, Customer 2, fruit, True, yeeeeeey\n",
      "22:18:48, Customer 3, fruit, True, yeeeeeey\n",
      "22:18:53, Customer 2, checkout\n",
      "22:18:53, Customer 3, checkout\n",
      "20\n",
      "22:18:53, Customer 1, dairy, True, yeeeeeey\n",
      "22:18:53, Customer 4, fruit, True, yeeeeeey\n",
      "22:18:53, Customer 5, drinks, True, yeeeeeey\n",
      "22:18:53, Customer 6, fruit, True, yeeeeeey\n",
      "22:18:53, Customer 7, dairy, True, yeeeeeey\n",
      "Dear Customers - The Supermarkert is about to close. please proceed to checkout\n",
      "22:19:03, customer 1, checkout, False, supermarket closed\n",
      "22:19:03, customer 4, checkout, False, supermarket closed\n",
      "22:19:03, customer 5, checkout, False, supermarket closed\n",
      "22:19:03, customer 6, checkout, False, supermarket closed\n",
      "22:19:03, customer 7, checkout, False, supermarket closed\n",
      "22:19:03: To the 8 customers that visited us today - Thank you for shopping at Doodle Supermarket\n"
     ]
    }
   ],
   "source": [
    "# activate Main function (give: \"object name\" ** recomended day_name, \"duration of runing time\")\n",
    "if __name__ == '__main__':\n",
    "    record = run_supermarket('monday', 30)\n",
    "    supermarkets.append(record)"
   ]
  },
  {
   "cell_type": "code",
   "execution_count": 7,
   "metadata": {},
   "outputs": [
    {
     "name": "stdout",
     "output_type": "stream",
     "text": [
      "Name: monday, Closing time: 2022-05-05 22:19:03. Total Number of customers: 8\n"
     ]
    }
   ],
   "source": [
    "# print initiated Supermarket Objects\n",
    "for supermarket in supermarkets:\n",
    "    print(supermarket)"
   ]
  }
 ],
 "metadata": {
  "interpreter": {
   "hash": "4c0b3348e10947656477cd434fbaab2b21c095770367e4cb50bfb8e7ae8e7f1f"
  },
  "kernelspec": {
   "display_name": "Python 3.9.7 ('base')",
   "language": "python",
   "name": "python3"
  },
  "language_info": {
   "codemirror_mode": {
    "name": "ipython",
    "version": 3
   },
   "file_extension": ".py",
   "mimetype": "text/x-python",
   "name": "python",
   "nbconvert_exporter": "python",
   "pygments_lexer": "ipython3",
   "version": "3.9.7"
  },
  "orig_nbformat": 4
 },
 "nbformat": 4,
 "nbformat_minor": 2
}
